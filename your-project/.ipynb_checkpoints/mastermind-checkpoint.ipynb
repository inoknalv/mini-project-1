{
 "cells": [
  {
   "cell_type": "markdown",
   "metadata": {},
   "source": [
    "<img src=\"https://bit.ly/2VnXWr2\" alt=\"Ironhack Logo\" width=\"100\" />\n",
    "\n",
    "# MASTERMIND GAME\n",
    "\n",
    "You can find the rules of Mastermind <a href=\"https://en.wikipedia.org/wiki/Mastermind_(board_game)#Gameplay_and_rules\">there</a>"
   ]
  },
  {
   "cell_type": "code",
   "execution_count": 22,
   "metadata": {
    "scrolled": true
   },
   "outputs": [
    {
     "name": "stdout",
     "output_type": "stream",
     "text": [
      "['y', 'p', 'r', 'g']\n"
     ]
    },
    {
     "name": "stdin",
     "output_type": "stream",
     "text": [
      "Please enter the correct sequence of colors:  ppyg\n"
     ]
    },
    {
     "name": "stdout",
     "output_type": "stream",
     "text": [
      "['p', 'p', 'y', 'g']\n",
      "['♟', '♙', '♟', '♙']\n"
     ]
    }
   ],
   "source": [
    "# MASTERMIND\n",
    "# Imports\n",
    "import random\n",
    "import re\n",
    "\n",
    "# Variables init\n",
    "colors = ['r', 'g', 'b', 'p', 'y', 'o'] # red, green, blue, purple, yellow, orange\n",
    "codemaster = []\n",
    "codebreaker = []\n",
    "check_list = []\n",
    "correct_peg = '\\u2659'\n",
    "misplaced_peg = '\\u265F'\n",
    "\n",
    "# Functions\n",
    "def pattern_code(colors, number):\n",
    "    return [random.choice(colors) for i in range(number)]\n",
    "\n",
    "def player_input():\n",
    "    global colors\n",
    "\n",
    "    guess = list(re.sub(r\"\\s+\", \"\", input('Please enter the correct sequence of colors: ')))\n",
    "    # Player input should consist of exactly 4 chars\n",
    "    if len(guess) != 4:\n",
    "        print('Please enter 4 letters only')\n",
    "        guess = player_input()\n",
    "    # Input given must be 4 letters available in the colors list\n",
    "    if set(guess).intersection(set(colors)) != set(guess):\n",
    "        print('Please use the correct color letters: '\n",
    "        + 'red (r), green (g), blue (b), purple (p), yellow (y) and orange (o)')\n",
    "        guess = player_input()\n",
    "\n",
    "    return guess\n",
    "\n",
    "def check_pattern(codebreaker, codemaster):\n",
    "    global correct_peg, misplaced_peg\n",
    "    check_list = []\n",
    "    for i, color in enumerate(codebreaker):\n",
    "        if color == codemaster[i]:\n",
    "            check_list.append(correct_peg)\n",
    "        else:\n",
    "            if color in codemaster:\n",
    "                check_list.append(misplaced_peg)\n",
    "            else:\n",
    "                check_list.append(' ')\n",
    "    \n",
    "    return check_list\n",
    "\n",
    "# def main():\n",
    "\n",
    "codemaster = pattern_code(colors, 4)\n",
    "print(codemaster)\n",
    "\n",
    "codebreaker = player_input()\n",
    "print(codebreaker)\n",
    "            \n",
    "result = check_pattern(codebreaker, codemaster)\n",
    "print(result)\n",
    "\n",
    "\n"
   ]
  },
  {
   "cell_type": "code",
   "execution_count": null,
   "metadata": {},
   "outputs": [],
   "source": []
  },
  {
   "cell_type": "code",
   "execution_count": null,
   "metadata": {},
   "outputs": [],
   "source": []
  }
 ],
 "metadata": {
  "kernelspec": {
   "display_name": "Python 3",
   "language": "python",
   "name": "python3"
  },
  "language_info": {
   "codemirror_mode": {
    "name": "ipython",
    "version": 3
   },
   "file_extension": ".py",
   "mimetype": "text/x-python",
   "name": "python",
   "nbconvert_exporter": "python",
   "pygments_lexer": "ipython3",
   "version": "3.7.7"
  }
 },
 "nbformat": 4,
 "nbformat_minor": 4
}
