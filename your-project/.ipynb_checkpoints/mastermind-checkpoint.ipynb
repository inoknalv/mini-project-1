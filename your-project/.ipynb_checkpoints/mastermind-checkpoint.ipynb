{
 "cells": [
  {
   "cell_type": "markdown",
   "metadata": {},
   "source": [
    "<img src=\"https://bit.ly/2VnXWr2\" alt=\"Ironhack Logo\" width=\"100\" />\n",
    "\n",
    "# MASTERMIND GAME\n",
    "\n",
    "You can find the rules of Mastermind <a href=\"https://en.wikipedia.org/wiki/Mastermind_(board_game)#Gameplay_and_rules\">there</a>"
   ]
  },
  {
   "cell_type": "code",
   "execution_count": 1,
   "metadata": {
    "scrolled": true
   },
   "outputs": [
    {
     "name": "stdout",
     "output_type": "stream",
     "text": [
      "Let's play a game of Mastermind!\n",
      "The computer will pick a pattern of 4 colors.\n",
      "Six colors are available to pick from:\n",
      "red (r), green (g), blue (b), purple (p), yellow (y), orange (o)\n",
      "Note that a color cannot be repeated more than twice.\n",
      "You will be asked to find the correct pattern.\n",
      "The order of the colors counts so if you find a color\n",
      "in the right place, you will see a ♙\n",
      "If the color is in the pattern but not at the right place\n",
      "you will see a ♟\n",
      "So let's play!\n"
     ]
    },
    {
     "name": "stdin",
     "output_type": "stream",
     "text": [
      "Press [ENTER] to continue... \n",
      "Please type the correct sequence of colors:  rgbp\n"
     ]
    },
    {
     "name": "stdout",
     "output_type": "stream",
     "text": [
      "['r', 'g', 'b', 'p']\n",
      "['♙', '♟', ' ', ' ']\n"
     ]
    },
    {
     "name": "stdin",
     "output_type": "stream",
     "text": [
      "Please type the correct sequence of colors:  ogrr\n"
     ]
    },
    {
     "name": "stdout",
     "output_type": "stream",
     "text": [
      "['o', 'g', 'r', 'r']\n",
      "[' ', '♟', '♟', '♟']\n"
     ]
    },
    {
     "name": "stdin",
     "output_type": "stream",
     "text": [
      "Please type the correct sequence of colors:  rygg\n"
     ]
    },
    {
     "name": "stdout",
     "output_type": "stream",
     "text": [
      "['r', 'y', 'g', 'g']\n",
      "['♙', '♙', '♙', '♙']\n",
      "You won! ♙\n"
     ]
    }
   ],
   "source": [
    "# MASTERMIND\n",
    "# Imports\n",
    "import random\n",
    "import re\n",
    "\n",
    "# Variables init\n",
    "colors = ['r', 'g', 'b', 'p', 'y', 'o'] # red, green, blue, purple, yellow, orange\n",
    "codemaster = []\n",
    "codebreaker = []\n",
    "check_list = []\n",
    "correct_peg = '\\u2659'\n",
    "misplaced_peg = '\\u265F'\n",
    "SUCCESS = False\n",
    "\n",
    "# Functions\n",
    "def pattern_code(colors, number):\n",
    "    pattern = [random.choice(colors) for i in range(number)]\n",
    "    for color in pattern:\n",
    "        # In order to simplify the game, a given color cannot be selected more than twice\n",
    "        if pattern.count(color) > 2:\n",
    "            pattern = pattern_code(colors, number)\n",
    "    return pattern\n",
    "\n",
    "def player_input():\n",
    "    global colors\n",
    "\n",
    "    guess = list(re.sub(r\"\\s+\", \"\", input('Please type the correct sequence of colors: ')))\n",
    "    # Player input should consist of exactly 4 chars\n",
    "    if len(guess) != 4:\n",
    "        print('Please enter 4 letters only')\n",
    "        guess = player_input()\n",
    "    # Input given must be 4 letters available in the colors list\n",
    "    if not set(guess).issubset(set(colors)):\n",
    "        print('Please use the correct color letters: '\n",
    "        + 'red (r), green (g), blue (b), purple (p), yellow (y) and orange (o)')\n",
    "        guess = player_input()\n",
    "\n",
    "    return guess\n",
    "\n",
    "def check_pattern(codebreaker, codemaster):\n",
    "    global correct_peg, misplaced_peg\n",
    "    check_list = []\n",
    "    for i, color in enumerate(codebreaker):\n",
    "        if color == codemaster[i]:\n",
    "            check_list.append(correct_peg)\n",
    "        else:\n",
    "            if color in codemaster:\n",
    "                check_list.append(misplaced_peg)\n",
    "            else:\n",
    "                check_list.append(' ')\n",
    "    return check_list\n",
    "\n",
    "def main():\n",
    "    global SUCCESS\n",
    "    print('Let\\'s play a game of Mastermind!\\nThe computer will pick a pattern of 4 colors.\\n'\n",
    "          + 'Six colors are available to pick from:\\nred (r), green (g), blue (b), purple (p), yellow (y), orange (o)\\n'\n",
    "          + 'Note that a color cannot be repeated more than twice.\\nYou will be asked to find the correct pattern.\\n'\n",
    "          + 'The order of the colors counts so if you find a color\\nin the right place, you will see a \\u2659\\n'\n",
    "          + 'If the color is in the pattern but not at the right place\\nyou will see a \\u265F\\nSo let\\'s play!')\n",
    "    \n",
    "    input('Press [ENTER] to continue...')\n",
    "    codemaster = pattern_code(colors, 4)\n",
    "    \n",
    "    while SUCCESS == False:\n",
    "        codebreaker = player_input()\n",
    "        print(codebreaker)\n",
    "        result = check_pattern(codebreaker, codemaster)\n",
    "        print(result)\n",
    "        if set(result) == {correct_peg}:\n",
    "            SUCCESS = True\n",
    "            print(f'You won! {correct_peg}')\n",
    "\n",
    "main()"
   ]
  },
  {
   "cell_type": "code",
   "execution_count": null,
   "metadata": {},
   "outputs": [],
   "source": []
  }
 ],
 "metadata": {
  "kernelspec": {
   "display_name": "Python 3",
   "language": "python",
   "name": "python3"
  },
  "language_info": {
   "codemirror_mode": {
    "name": "ipython",
    "version": 3
   },
   "file_extension": ".py",
   "mimetype": "text/x-python",
   "name": "python",
   "nbconvert_exporter": "python",
   "pygments_lexer": "ipython3",
   "version": "3.7.7"
  }
 },
 "nbformat": 4,
 "nbformat_minor": 4
}
