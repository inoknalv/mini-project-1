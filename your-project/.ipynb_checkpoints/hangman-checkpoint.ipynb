{
 "cells": [
  {
   "cell_type": "markdown",
   "metadata": {},
   "source": [
    "<img src=\"https://bit.ly/2VnXWr2\" alt=\"Ironhack Logo\" width=\"100\" />\n",
    "\n",
    "# HANGMAN GAME\n",
    "\n",
    "You can find the rules of Hangman <a href=\"https://en.wikipedia.org/wiki/Hangman_(game)\">there</a>"
   ]
  },
  {
   "cell_type": "code",
   "execution_count": 10,
   "metadata": {},
   "outputs": [
    {
     "name": "stdout",
     "output_type": "stream",
     "text": [
      "yearbook\n"
     ]
    }
   ],
   "source": [
    "# HANGMAN\n",
    "# Imports\n",
    "from random_word import RandomWords\n",
    "\n",
    "\n",
    "# Functions\n",
    "def get_word():\n",
    "    word = RandomWords().get_random_word(hasDictionaryDef=\"true\", minLength=7, maxLength=10)\n",
    "    return word.upper()\n",
    "\n",
    "word = get_word()\n",
    "print(word)\n"
   ]
  },
  {
   "cell_type": "code",
   "execution_count": null,
   "metadata": {},
   "outputs": [],
   "source": []
  }
 ],
 "metadata": {
  "kernelspec": {
   "display_name": "Python 3",
   "language": "python",
   "name": "python3"
  },
  "language_info": {
   "codemirror_mode": {
    "name": "ipython",
    "version": 3
   },
   "file_extension": ".py",
   "mimetype": "text/x-python",
   "name": "python",
   "nbconvert_exporter": "python",
   "pygments_lexer": "ipython3",
   "version": "3.7.7"
  }
 },
 "nbformat": 4,
 "nbformat_minor": 4
}
